{
 "metadata": {
  "language_info": {
   "codemirror_mode": {
    "name": "ipython",
    "version": 3
   },
   "file_extension": ".py",
   "mimetype": "text/x-python",
   "name": "python",
   "nbconvert_exporter": "python",
   "pygments_lexer": "ipython3",
   "version": "3.8.3-final"
  },
  "orig_nbformat": 2,
  "kernelspec": {
   "name": "python3",
   "display_name": "Python 3.8.3 64-bit (conda)",
   "metadata": {
    "interpreter": {
     "hash": "51a9663a131f1b5758c45b97a2d6917c8ae86b33e231c3733631cbc7265cfc89"
    }
   }
  }
 },
 "nbformat": 4,
 "nbformat_minor": 2,
 "cells": [
  {
   "cell_type": "code",
   "execution_count": 1,
   "metadata": {},
   "outputs": [],
   "source": [
    "import pandas as pd"
   ]
  },
  {
   "cell_type": "code",
   "execution_count": 2,
   "metadata": {},
   "outputs": [],
   "source": [
    "# 读取原数据集\n",
    "df = pd.read_csv(r'E:\\VSCODE\\毕业论文\\数据集\\dazhongdianping.csv',encoding='utf-8')\n",
    "# 对原数据进行处理（去除空值）\n",
    "df.dropna(axis=0, how='any', inplace=True)"
   ]
  },
  {
   "cell_type": "code",
   "execution_count": 3,
   "metadata": {},
   "outputs": [
    {
     "output_type": "execute_result",
     "data": {
      "text/plain": [
       "userId                0\n",
       "restId                0\n",
       "rating                0\n",
       "rating_price          0\n",
       "rating_flavor         0\n",
       "rating_waitingtime    0\n",
       "comment               0\n",
       "dtype: int64"
      ]
     },
     "metadata": {},
     "execution_count": 3
    }
   ],
   "source": [
    "# 查看是否还有空值\n",
    "df.isnull().sum()"
   ]
  },
  {
   "source": [
    "### 利用Pandas库中的sample抽取指定的样本\n",
    "\n",
    "DataFrame.sample(n=None, frac=None, replace=False, weights=None, random_state=None, axis=None)\n",
    "\n",
    "- n是要抽取的行数。（例如n=20000时，抽取其中的2W行）\n",
    "\n",
    "- frac 是抽取的比列。（有一些时候，我们并对具体抽取的行数不关心，我们想抽取其中的百分比，这个时候就可以选择使用frac，例如frac=0.8，就是抽取其中80%）\n",
    "\n",
    "- replace：是否为有放回抽样，取replace=True时为有放回抽样。\n",
    "\n",
    "- weights 这个是每个样本的权重。\n",
    "\n",
    "- random_state 随机种子。\n",
    "\n",
    "- axis 是选择抽取数据的行还是列。axis=0的时是抽取行，axis=1时是抽取列（也就是说axis=1时，在列中随机抽取n列，在axis=0时，在行中随机抽取n行）"
   ],
   "cell_type": "markdown",
   "metadata": {}
  },
  {
   "cell_type": "code",
   "execution_count": 4,
   "metadata": {},
   "outputs": [],
   "source": [
    "# 利用Pandas库中的sample 抽取1%的数据\n",
    "df_sample = df.sample(frac=0.01)"
   ]
  },
  {
   "cell_type": "code",
   "execution_count": 5,
   "metadata": {},
   "outputs": [
    {
     "output_type": "execute_result",
     "data": {
      "text/plain": [
       "           userId    restId  rating  rating_price  rating_flavor  \\\n",
       "635705    33124.0    4423.0     5.0           2.0            5.0   \n",
       "1949025  105760.0   35897.0     4.0           3.0            3.0   \n",
       "3565211  194061.0   82619.0     5.0           5.0            4.0   \n",
       "2302441  125350.0  244575.0     3.0           3.0            2.0   \n",
       "4388627  242177.0  409137.0     4.0           3.0            3.0   \n",
       "\n",
       "         rating_waitingtime                                            comment  \n",
       "635705                  2.0  5点不到就去了，正好最后一个位子~\\n人实在太多了，真是不预约不行啊~\\n一半座位，一半席地...  \n",
       "1949025                 3.0  曾经想去办张会员卡，可想想我也不怎么方便经常去也就没有办。\\n里面的面包味道还是很好吃的。虽...  \n",
       "3565211                 5.0  现在小摊头都很规范的 一个个有棚的 还有编号\\n但是价格嘛都上去了 因为要付摊位费的啊\\n昌...  \n",
       "2302441                 2.0  谁说他们家不推销的。。。比起不正规的店是要好点，不至于你做脸的时候说个不停，但是出来的时候推...  \n",
       "4388627                 3.0  五一期间特意来这家店品尝。感觉真如评论所说，是一家从菜肴到环境到服务都不错的店。喜欢这里的大...  "
      ],
      "text/html": "<div>\n<style scoped>\n    .dataframe tbody tr th:only-of-type {\n        vertical-align: middle;\n    }\n\n    .dataframe tbody tr th {\n        vertical-align: top;\n    }\n\n    .dataframe thead th {\n        text-align: right;\n    }\n</style>\n<table border=\"1\" class=\"dataframe\">\n  <thead>\n    <tr style=\"text-align: right;\">\n      <th></th>\n      <th>userId</th>\n      <th>restId</th>\n      <th>rating</th>\n      <th>rating_price</th>\n      <th>rating_flavor</th>\n      <th>rating_waitingtime</th>\n      <th>comment</th>\n    </tr>\n  </thead>\n  <tbody>\n    <tr>\n      <th>635705</th>\n      <td>33124.0</td>\n      <td>4423.0</td>\n      <td>5.0</td>\n      <td>2.0</td>\n      <td>5.0</td>\n      <td>2.0</td>\n      <td>5点不到就去了，正好最后一个位子~\\n人实在太多了，真是不预约不行啊~\\n一半座位，一半席地...</td>\n    </tr>\n    <tr>\n      <th>1949025</th>\n      <td>105760.0</td>\n      <td>35897.0</td>\n      <td>4.0</td>\n      <td>3.0</td>\n      <td>3.0</td>\n      <td>3.0</td>\n      <td>曾经想去办张会员卡，可想想我也不怎么方便经常去也就没有办。\\n里面的面包味道还是很好吃的。虽...</td>\n    </tr>\n    <tr>\n      <th>3565211</th>\n      <td>194061.0</td>\n      <td>82619.0</td>\n      <td>5.0</td>\n      <td>5.0</td>\n      <td>4.0</td>\n      <td>5.0</td>\n      <td>现在小摊头都很规范的 一个个有棚的 还有编号\\n但是价格嘛都上去了 因为要付摊位费的啊\\n昌...</td>\n    </tr>\n    <tr>\n      <th>2302441</th>\n      <td>125350.0</td>\n      <td>244575.0</td>\n      <td>3.0</td>\n      <td>3.0</td>\n      <td>2.0</td>\n      <td>2.0</td>\n      <td>谁说他们家不推销的。。。比起不正规的店是要好点，不至于你做脸的时候说个不停，但是出来的时候推...</td>\n    </tr>\n    <tr>\n      <th>4388627</th>\n      <td>242177.0</td>\n      <td>409137.0</td>\n      <td>4.0</td>\n      <td>3.0</td>\n      <td>3.0</td>\n      <td>3.0</td>\n      <td>五一期间特意来这家店品尝。感觉真如评论所说，是一家从菜肴到环境到服务都不错的店。喜欢这里的大...</td>\n    </tr>\n  </tbody>\n</table>\n</div>"
     },
     "metadata": {},
     "execution_count": 5
    }
   ],
   "source": [
    "df_sample.head()"
   ]
  },
  {
   "cell_type": "code",
   "execution_count": 6,
   "metadata": {},
   "outputs": [
    {
     "output_type": "execute_result",
     "data": {
      "text/plain": [
       "                      count      mean       std  min  25%  50%  75%  max\n",
       "rating              26831.0  3.594872  0.853535  0.0  3.0  4.0  4.0  5.0\n",
       "rating_price        26831.0  2.796392  0.919509  1.0  2.0  3.0  3.0  5.0\n",
       "rating_flavor       26831.0  3.081212  0.942792  1.0  2.0  3.0  4.0  5.0\n",
       "rating_waitingtime  26831.0  2.763296  0.936558  1.0  2.0  3.0  3.0  5.0"
      ],
      "text/html": "<div>\n<style scoped>\n    .dataframe tbody tr th:only-of-type {\n        vertical-align: middle;\n    }\n\n    .dataframe tbody tr th {\n        vertical-align: top;\n    }\n\n    .dataframe thead th {\n        text-align: right;\n    }\n</style>\n<table border=\"1\" class=\"dataframe\">\n  <thead>\n    <tr style=\"text-align: right;\">\n      <th></th>\n      <th>count</th>\n      <th>mean</th>\n      <th>std</th>\n      <th>min</th>\n      <th>25%</th>\n      <th>50%</th>\n      <th>75%</th>\n      <th>max</th>\n    </tr>\n  </thead>\n  <tbody>\n    <tr>\n      <th>rating</th>\n      <td>26831.0</td>\n      <td>3.594872</td>\n      <td>0.853535</td>\n      <td>0.0</td>\n      <td>3.0</td>\n      <td>4.0</td>\n      <td>4.0</td>\n      <td>5.0</td>\n    </tr>\n    <tr>\n      <th>rating_price</th>\n      <td>26831.0</td>\n      <td>2.796392</td>\n      <td>0.919509</td>\n      <td>1.0</td>\n      <td>2.0</td>\n      <td>3.0</td>\n      <td>3.0</td>\n      <td>5.0</td>\n    </tr>\n    <tr>\n      <th>rating_flavor</th>\n      <td>26831.0</td>\n      <td>3.081212</td>\n      <td>0.942792</td>\n      <td>1.0</td>\n      <td>2.0</td>\n      <td>3.0</td>\n      <td>4.0</td>\n      <td>5.0</td>\n    </tr>\n    <tr>\n      <th>rating_waitingtime</th>\n      <td>26831.0</td>\n      <td>2.763296</td>\n      <td>0.936558</td>\n      <td>1.0</td>\n      <td>2.0</td>\n      <td>3.0</td>\n      <td>3.0</td>\n      <td>5.0</td>\n    </tr>\n  </tbody>\n</table>\n</div>"
     },
     "metadata": {},
     "execution_count": 6
    }
   ],
   "source": [
    "# 数据统计\n",
    "df_sample[['rating','rating_price','rating_flavor','rating_waitingtime']].describe().T"
   ]
  },
  {
   "cell_type": "code",
   "execution_count": 7,
   "metadata": {},
   "outputs": [],
   "source": [
    "import jieba\n",
    "import re"
   ]
  },
  {
   "cell_type": "code",
   "execution_count": 8,
   "metadata": {},
   "outputs": [],
   "source": [
    "# 载入停用词库\n",
    "stopwords_path = r'E:\\VSCODE\\毕业论文\\数据集\\stopwords-cn.txt'\n",
    "stopwords = open(stopwords_path,encoding='utf-8').read().splitlines()"
   ]
  },
  {
   "cell_type": "code",
   "execution_count": 9,
   "metadata": {
    "tags": []
   },
   "outputs": [
    {
     "output_type": "execute_result",
     "data": {
      "text/plain": [
       "'点'"
      ]
     },
     "metadata": {},
     "execution_count": 9
    }
   ],
   "source": [
    "# 去除中文以外的所有字符\n",
    "str_out = []\n",
    "for cn_wrod in df_sample['comment']:\n",
    "    text0 =cn_wrod  # 获取文本内容\n",
    "    text1 = re.sub(\"[\\.\\!\\/_,$%^*(+\\\"\\']+|[+——！，。？、~@#￥%……&*（）]+\", \"\", text0)  # 去除标点及特殊符号\n",
    "    text2 = re.sub(\"[^\\u4e00-\\u9fa5]\", \"\", text1)  # 去除所有非汉字内容（英文数字）\n",
    "    str_out.append(text2)\n",
    "str_out[0][0]"
   ]
  },
  {
   "cell_type": "code",
   "execution_count": 10,
   "metadata": {
    "tags": []
   },
   "outputs": [
    {
     "output_type": "stream",
     "name": "stderr",
     "text": [
      "Building prefix dict from the default dictionary ...\n",
      "Loading model from cache C:\\Users\\hostn\\AppData\\Local\\Temp\\jieba.cache\n",
      "Loading model cost 0.590 seconds.\n",
      "Prefix dict has been built successfully.\n"
     ]
    }
   ],
   "source": [
    "# 用结巴分词并使用停用词\n",
    "words_out=[]\n",
    "for word in str_out:\n",
    "    jieba_cut = jieba.cut(word,cut_all=False)\n",
    "    # jieba_word = ' '.join(list(jieba_cut))\n",
    "    str_stop_word = [word for word in jieba_cut if word not in stopwords]\n",
    "    words_out.append(str_stop_word)"
   ]
  },
  {
   "cell_type": "code",
   "execution_count": 11,
   "metadata": {},
   "outputs": [
    {
     "output_type": "execute_result",
     "data": {
      "text/plain": [
       "['点',\n",
       " '不到',\n",
       " '正好',\n",
       " '位子',\n",
       " '实在',\n",
       " '太多',\n",
       " '预约',\n",
       " '不行',\n",
       " '一半',\n",
       " '座位',\n",
       " '一半',\n",
       " '席地而坐',\n",
       " '环境',\n",
       " '服务',\n",
       " '人流量',\n",
       " '太大',\n",
       " '缘故',\n",
       " '送',\n",
       " '小菜',\n",
       " '七八种',\n",
       " '螃蟹',\n",
       " '蔬菜',\n",
       " '色拉',\n",
       " '好吃',\n",
       " '泡菜',\n",
       " '类',\n",
       " '海鲜',\n",
       " '炒年糕',\n",
       " '味道',\n",
       " '很赞',\n",
       " '海鲜',\n",
       " '少',\n",
       " '蛤蜊',\n",
       " '肉',\n",
       " '找',\n",
       " '不到',\n",
       " '点',\n",
       " '五花肉',\n",
       " '牛',\n",
       " '里脊',\n",
       " '菌类',\n",
       " '拼盘',\n",
       " '牛肉汤',\n",
       " '烤',\n",
       " '服务员',\n",
       " '会帮',\n",
       " '忙',\n",
       " '肉',\n",
       " '味道',\n",
       " '不错',\n",
       " '明火',\n",
       " '烤',\n",
       " '好吃',\n",
       " '配',\n",
       " '大酱',\n",
       " '只不过',\n",
       " '味道',\n",
       " '菌类',\n",
       " '烤',\n",
       " '好吃',\n",
       " '特别',\n",
       " '蘑菇',\n",
       " '烤',\n",
       " '汤',\n",
       " '精华',\n",
       " '金针菇',\n",
       " '五花肉',\n",
       " '烤',\n",
       " '绝配',\n",
       " '吃',\n",
       " '完',\n",
       " '免费',\n",
       " '冰淇淋',\n",
       " '吃',\n",
       " '烧烤',\n",
       " '健康',\n",
       " '价格',\n",
       " '自然',\n",
       " '高',\n",
       " '一点']"
      ]
     },
     "metadata": {},
     "execution_count": 11
    }
   ],
   "source": [
    "words_out[0]"
   ]
  },
  {
   "source": [
    "### 词向量化"
   ],
   "cell_type": "markdown",
   "metadata": {}
  },
  {
   "source": [
    "### 1.glove方法"
   ],
   "cell_type": "markdown",
   "metadata": {}
  },
  {
   "cell_type": "code",
   "execution_count": 12,
   "metadata": {},
   "outputs": [],
   "source": [
    "# 导入glove模块\n",
    "from glove import Glove,Corpus"
   ]
  },
  {
   "cell_type": "code",
   "execution_count": 13,
   "metadata": {},
   "outputs": [],
   "source": [
    "# 准备要向量化的数据\n",
    "\n",
    "sentense = words_out\n",
    "# 实例化语料库模型\n",
    "corpus_model = Corpus()"
   ]
  },
  {
   "cell_type": "code",
   "execution_count": 14,
   "metadata": {},
   "outputs": [],
   "source": [
    "# 训练corpus_model\n",
    "corpus_model.fit(sentense,window=10)"
   ]
  },
  {
   "cell_type": "code",
   "execution_count": 15,
   "metadata": {},
   "outputs": [
    {
     "output_type": "stream",
     "name": "stdout",
     "text": [
      "Dict size: 75579\nCollocations: 5026125\n"
     ]
    }
   ],
   "source": [
    "corpus_model.save('corpus_model_vector')\n",
    "print('Dict size: %s' % len(corpus_model.dictionary)) # 打印训练模型大小\n",
    "print('Collocations: %s' % corpus_model.matrix.nnz)"
   ]
  },
  {
   "cell_type": "code",
   "execution_count": 16,
   "metadata": {},
   "outputs": [
    {
     "output_type": "stream",
     "name": "stdout",
     "text": [
      "Performing 200 training epochs with 6 threads\n",
      "Epoch 0\n",
      "Epoch 1\n",
      "Epoch 2\n",
      "Epoch 3\n",
      "Epoch 4\n",
      "Epoch 5\n",
      "Epoch 6\n",
      "Epoch 7\n",
      "Epoch 8\n",
      "Epoch 9\n",
      "Epoch 10\n",
      "Epoch 11\n",
      "Epoch 12\n",
      "Epoch 13\n",
      "Epoch 14\n",
      "Epoch 15\n",
      "Epoch 16\n",
      "Epoch 17\n",
      "Epoch 18\n",
      "Epoch 19\n",
      "Epoch 20\n",
      "Epoch 21\n",
      "Epoch 22\n",
      "Epoch 23\n",
      "Epoch 24\n",
      "Epoch 25\n",
      "Epoch 26\n",
      "Epoch 27\n",
      "Epoch 28\n",
      "Epoch 29\n",
      "Epoch 30\n",
      "Epoch 31\n",
      "Epoch 32\n",
      "Epoch 33\n",
      "Epoch 34\n",
      "Epoch 35\n",
      "Epoch 36\n",
      "Epoch 37\n",
      "Epoch 38\n",
      "Epoch 39\n",
      "Epoch 40\n",
      "Epoch 41\n",
      "Epoch 42\n",
      "Epoch 43\n",
      "Epoch 44\n",
      "Epoch 45\n",
      "Epoch 46\n",
      "Epoch 47\n",
      "Epoch 48\n",
      "Epoch 49\n",
      "Epoch 50\n",
      "Epoch 51\n",
      "Epoch 52\n",
      "Epoch 53\n",
      "Epoch 54\n",
      "Epoch 55\n",
      "Epoch 56\n",
      "Epoch 57\n",
      "Epoch 58\n",
      "Epoch 59\n",
      "Epoch 60\n",
      "Epoch 61\n",
      "Epoch 62\n",
      "Epoch 63\n",
      "Epoch 64\n",
      "Epoch 65\n",
      "Epoch 66\n",
      "Epoch 67\n",
      "Epoch 68\n",
      "Epoch 69\n",
      "Epoch 70\n",
      "Epoch 71\n",
      "Epoch 72\n",
      "Epoch 73\n",
      "Epoch 74\n",
      "Epoch 75\n",
      "Epoch 76\n",
      "Epoch 77\n",
      "Epoch 78\n",
      "Epoch 79\n",
      "Epoch 80\n",
      "Epoch 81\n",
      "Epoch 82\n",
      "Epoch 83\n",
      "Epoch 84\n",
      "Epoch 85\n",
      "Epoch 86\n",
      "Epoch 87\n",
      "Epoch 88\n",
      "Epoch 89\n",
      "Epoch 90\n",
      "Epoch 91\n",
      "Epoch 92\n",
      "Epoch 93\n",
      "Epoch 94\n",
      "Epoch 95\n",
      "Epoch 96\n",
      "Epoch 97\n",
      "Epoch 98\n",
      "Epoch 99\n",
      "Epoch 100\n",
      "Epoch 101\n",
      "Epoch 102\n",
      "Epoch 103\n",
      "Epoch 104\n",
      "Epoch 105\n",
      "Epoch 106\n",
      "Epoch 107\n",
      "Epoch 108\n",
      "Epoch 109\n",
      "Epoch 110\n",
      "Epoch 111\n",
      "Epoch 112\n",
      "Epoch 113\n",
      "Epoch 114\n",
      "Epoch 115\n",
      "Epoch 116\n",
      "Epoch 117\n",
      "Epoch 118\n",
      "Epoch 119\n",
      "Epoch 120\n",
      "Epoch 121\n",
      "Epoch 122\n",
      "Epoch 123\n",
      "Epoch 124\n",
      "Epoch 125\n",
      "Epoch 126\n",
      "Epoch 127\n",
      "Epoch 128\n",
      "Epoch 129\n",
      "Epoch 130\n",
      "Epoch 131\n",
      "Epoch 132\n",
      "Epoch 133\n",
      "Epoch 134\n",
      "Epoch 135\n",
      "Epoch 136\n",
      "Epoch 137\n",
      "Epoch 138\n",
      "Epoch 139\n",
      "Epoch 140\n",
      "Epoch 141\n",
      "Epoch 142\n",
      "Epoch 143\n",
      "Epoch 144\n",
      "Epoch 145\n",
      "Epoch 146\n",
      "Epoch 147\n",
      "Epoch 148\n",
      "Epoch 149\n",
      "Epoch 150\n",
      "Epoch 151\n",
      "Epoch 152\n",
      "Epoch 153\n",
      "Epoch 154\n",
      "Epoch 155\n",
      "Epoch 156\n",
      "Epoch 157\n",
      "Epoch 158\n",
      "Epoch 159\n",
      "Epoch 160\n",
      "Epoch 161\n",
      "Epoch 162\n",
      "Epoch 163\n",
      "Epoch 164\n",
      "Epoch 165\n",
      "Epoch 166\n",
      "Epoch 167\n",
      "Epoch 168\n",
      "Epoch 169\n",
      "Epoch 170\n",
      "Epoch 171\n",
      "Epoch 172\n",
      "Epoch 173\n",
      "Epoch 174\n",
      "Epoch 175\n",
      "Epoch 176\n",
      "Epoch 177\n",
      "Epoch 178\n",
      "Epoch 179\n",
      "Epoch 180\n",
      "Epoch 181\n",
      "Epoch 182\n",
      "Epoch 183\n",
      "Epoch 184\n",
      "Epoch 185\n",
      "Epoch 186\n",
      "Epoch 187\n",
      "Epoch 188\n",
      "Epoch 189\n",
      "Epoch 190\n",
      "Epoch 191\n",
      "Epoch 192\n",
      "Epoch 193\n",
      "Epoch 194\n",
      "Epoch 195\n",
      "Epoch 196\n",
      "Epoch 197\n",
      "Epoch 198\n",
      "Epoch 199\n"
     ]
    }
   ],
   "source": [
    "# glove 的训练\n",
    "glove = Glove(no_components=100,learning_rate=0.05)\n",
    "glove.fit(corpus_model.matrix,epochs = 200,no_threads = 6,verbose = True)\n",
    "glove.add_dictionary(corpus_model.dictionary)"
   ]
  },
  {
   "cell_type": "code",
   "execution_count": 99,
   "metadata": {},
   "outputs": [],
   "source": [
    "# 保存Glove模型\n",
    "glove.save('glove_model_sentence')"
   ]
  },
  {
   "cell_type": "code",
   "execution_count": 100,
   "metadata": {},
   "outputs": [],
   "source": [
    "# 词向量（数组类型）\n",
    "words_vectors = glove.word_vectors"
   ]
  },
  {
   "cell_type": "code",
   "execution_count": 113,
   "metadata": {},
   "outputs": [
    {
     "output_type": "execute_result",
     "data": {
      "text/plain": [
       "'中午'"
      ]
     },
     "metadata": {},
     "execution_count": 113
    }
   ],
   "source": [
    "words_out[20][1]"
   ]
  },
  {
   "cell_type": "code",
   "execution_count": 114,
   "metadata": {},
   "outputs": [
    {
     "output_type": "execute_result",
     "data": {
      "text/plain": [
       "array([ 0.11567292, -0.21596455,  0.32681367, -0.41017883, -0.27490632,\n",
       "       -0.26885874, -0.22322446,  0.01422439, -0.07315054,  0.19737195,\n",
       "        0.51409506, -0.52493786,  0.00813521, -0.11878183, -0.51448549,\n",
       "        0.11991928, -0.19444734,  0.11511161,  0.45162927, -0.35000525,\n",
       "       -0.16182535, -0.1075349 ,  0.10591936,  0.24302803,  0.04581608,\n",
       "       -0.44847592,  0.51799989,  0.40145355,  0.36755151, -0.48514226,\n",
       "        0.09667013,  0.24776922, -0.17772861,  0.51807977,  0.0321675 ,\n",
       "        0.23937438,  0.36699664,  0.3609303 , -0.20661078,  0.19776421,\n",
       "       -0.13734047,  0.06146574, -0.08046185, -0.21969702, -0.17454399,\n",
       "        0.04222977,  0.43850404, -0.00456459, -0.21056369, -0.01071386,\n",
       "        0.06533116, -0.25606686, -0.18417898, -0.1938965 , -0.08445641,\n",
       "        0.08593054,  0.13592637, -0.03772407, -0.10380142,  0.26961381,\n",
       "        0.06013409,  0.46079045, -0.09419305,  0.26265448,  0.57879115,\n",
       "        0.41642835, -0.39497902,  0.03827709, -0.08328492,  0.34391704,\n",
       "       -0.43832134, -0.21103418,  0.25151705,  0.42211534,  0.00363966,\n",
       "       -0.03019652, -0.07783596,  0.24071662,  0.24756737,  0.1319791 ,\n",
       "        0.15070592,  0.19046487, -0.05985635,  0.41242575, -0.26889253,\n",
       "        0.13370279, -0.51491914,  0.01642531,  0.28858315, -0.14185793,\n",
       "        0.18899083, -0.37348957, -0.46841618,  0.72093056,  0.50868072,\n",
       "       -0.30113545, -0.04180529,  0.24737306, -0.28214331, -0.58128162])"
      ]
     },
     "metadata": {},
     "execution_count": 114
    }
   ],
   "source": [
    "# 查看指定词向量(列表、元组，字典不可哈希)\n",
    "glove.word_vectors[glove.dictionary[words_out[20][1]]]"
   ]
  },
  {
   "cell_type": "code",
   "execution_count": 112,
   "metadata": {},
   "outputs": [
    {
     "output_type": "execute_result",
     "data": {
      "text/plain": [
       "[('购药治泻', 0.8610497516381104),\n",
       " ('不折加', 0.7884845035122651),\n",
       " ('另作', 0.7442358169255358),\n",
       " ('到兰庭', 0.6908941960566289),\n",
       " ('同事', 0.6548987383657052),\n",
       " ('琴日', 0.6526825944012358),\n",
       " ('鸡俱兴', 0.6519325537164529),\n",
       " ('我大', 0.6429757594473352),\n",
       " ('味千啦', 0.6289863121061614)]"
      ]
     },
     "metadata": {},
     "execution_count": 112
    }
   ],
   "source": [
    "# 近似词判定\n",
    "glove.most_similar(words_out[20][1],number=10)"
   ]
  },
  {
   "cell_type": "code",
   "execution_count": 125,
   "metadata": {},
   "outputs": [
    {
     "output_type": "execute_result",
     "data": {
      "text/plain": [
       "[('墨魚', 0.6205651603496235),\n",
       " ('六宝饭', 0.619499721220392),\n",
       " ('幾道', 0.577762998295684),\n",
       " ('记华辉', 0.549696030838678),\n",
       " ('優芙絲', 0.5391181500839941),\n",
       " ('烤半鸡', 0.5320760884813712),\n",
       " ('開點', 0.5209553650862145),\n",
       " ('甲级', 0.5139271425360356),\n",
       " ('不比北行', 0.5134131130369043)]"
      ]
     },
     "metadata": {},
     "execution_count": 125
    }
   ],
   "source": [
    "word = ['好吃']\n",
    "glove.most_similar(word[0],number=10)"
   ]
  },
  {
   "source": [
    "### 2.CountVectorizer方法"
   ],
   "cell_type": "markdown",
   "metadata": {}
  },
  {
   "cell_type": "code",
   "execution_count": 126,
   "metadata": {},
   "outputs": [],
   "source": [
    "# 导入CountVectorizer\n",
    "from sklearn.feature_extraction.text import CountVectorizer"
   ]
  },
  {
   "cell_type": "code",
   "execution_count": 138,
   "metadata": {},
   "outputs": [],
   "source": [
    "# 处理文本（结巴分词）\n",
    "words = []\n",
    "for word in str_out:\n",
    "    jieba_cut = jieba.cut(word,cut_all=False)\n",
    "    jieba_word = ' '.join(list(jieba_cut))\n",
    "    words.append(jieba_word)"
   ]
  },
  {
   "cell_type": "code",
   "execution_count": 139,
   "metadata": {},
   "outputs": [],
   "source": [
    "# 实例化并加入停用词\n",
    "vectorizer = CountVectorizer(stop_words=stopwords)"
   ]
  },
  {
   "cell_type": "code",
   "execution_count": 151,
   "metadata": {
    "tags": []
   },
   "outputs": [],
   "source": [
    "# 生成语料库\n",
    "# 转换数据\n",
    "words_count = vectorizer.fit_transform(words)"
   ]
  },
  {
   "cell_type": "code",
   "execution_count": 152,
   "metadata": {},
   "outputs": [],
   "source": [
    "# 查看特征词\n",
    "words_count_name = vectorizer.get_feature_names()"
   ]
  },
  {
   "cell_type": "code",
   "execution_count": 166,
   "metadata": {},
   "outputs": [
    {
     "output_type": "execute_result",
     "data": {
      "text/plain": [
       "array([[0, 0, 0, ..., 0, 0, 0]], dtype=int64)"
      ]
     },
     "metadata": {},
     "execution_count": 166
    }
   ],
   "source": [
    "# 测试\n",
    "test = ['好吃']\n",
    "test_result = vectorizer.transform(test).toarray()\n",
    "test_result"
   ]
  },
  {
   "source": [
    "### 情感 "
   ],
   "cell_type": "markdown",
   "metadata": {}
  },
  {
   "source": [
    "情感分类\n",
    "编号 情感大类 情感类 例词\n",
    "- 1 乐 快乐(PA) 喜悦、欢喜、笑眯眯、欢天喜地\n",
    "- 2 安心(PE) 踏实、宽心、定心丸、问心无愧\n",
    "- 3 好 尊敬(PD) 恭敬、敬爱、毕恭毕敬、肃然起敬\n",
    "- 4 赞扬(PH) 英俊、优秀、通情达理、实事求是\n",
    "- 5 相信(PG) 信任、信赖、可靠、毋庸置疑\n",
    "- 6 喜爱(PB) 倾慕、宝贝、一见钟情、爱不释手\n",
    "- 7 祝愿(PK) 渴望、保佑、福寿绵长、万寿无疆\n",
    "- 8 怒 愤怒(NA) 气愤、恼火、大发雷霆、七窍生烟\n",
    "- 9 哀 悲伤(NB) 忧伤、悲苦、心如刀割、悲痛欲绝\n",
    "- 10 失望(NJ) 憾事、绝望、灰心丧气、心灰意冷\n",
    "- 11 疚(NH) 内疚、忏悔、过意不去、问心有愧\n",
    "- 12 思(PF) 思念、相思、牵肠挂肚、朝思暮想\n",
    "- 13 惧 慌(NI) 慌张、心慌、不知所措、手忙脚乱\n",
    "- 14 恐惧(NC) 胆怯、害怕、担惊受怕、胆颤心惊\n",
    "- 15 羞(NG) 害羞、害臊、面红耳赤、无地自容\n",
    "- 16 恶 烦闷(NE) 憋闷、烦躁、心烦意乱、自寻烦恼\n",
    "- 17 憎恶(ND) 反感、可耻、恨之入骨、深恶痛绝\n",
    "- 18 贬责(NN) 呆板、虚荣、杂乱无章、心狠手辣\n",
    "- 19 妒忌(NK) 眼红、吃醋、醋坛子、嫉贤妒能\n",
    "- 20 怀疑(NL) 多心、生疑、将信将疑、疑神疑鬼\n",
    "- 21 惊 惊奇(PC) 奇怪、奇迹、大吃一惊、瞠目结舌"
   ],
   "cell_type": "markdown",
   "metadata": {}
  },
  {
   "cell_type": "code",
   "execution_count": 22,
   "metadata": {},
   "outputs": [
    {
     "output_type": "execute_result",
     "data": {
      "text/plain": [
       "   词语  词性种类  词义数  词义序号 情感分类  强度  极性 辅助情感分类  强度2  极性2 Unnamed: 10  Unnamed: 11\n",
       "0  脏乱   adj  1.0   1.0   NN   7   2    NaN  NaN  NaN         NaN          NaN\n",
       "1  糟报   adj  1.0   1.0   NN   5   2    NaN  NaN  NaN         NaN          NaN\n",
       "2  早衰   adj  1.0   1.0   NE   5   2    NaN  NaN  NaN         NaN          NaN\n",
       "3  责备  verb  1.0   1.0   NN   5   2    NaN  NaN  NaN         NaN          NaN\n",
       "4  贼眼  noun  1.0   1.0   NN   5   2    NaN  NaN  NaN         NaN          NaN"
      ],
      "text/html": "<div>\n<style scoped>\n    .dataframe tbody tr th:only-of-type {\n        vertical-align: middle;\n    }\n\n    .dataframe tbody tr th {\n        vertical-align: top;\n    }\n\n    .dataframe thead th {\n        text-align: right;\n    }\n</style>\n<table border=\"1\" class=\"dataframe\">\n  <thead>\n    <tr style=\"text-align: right;\">\n      <th></th>\n      <th>词语</th>\n      <th>词性种类</th>\n      <th>词义数</th>\n      <th>词义序号</th>\n      <th>情感分类</th>\n      <th>强度</th>\n      <th>极性</th>\n      <th>辅助情感分类</th>\n      <th>强度2</th>\n      <th>极性2</th>\n      <th>Unnamed: 10</th>\n      <th>Unnamed: 11</th>\n    </tr>\n  </thead>\n  <tbody>\n    <tr>\n      <th>0</th>\n      <td>脏乱</td>\n      <td>adj</td>\n      <td>1.0</td>\n      <td>1.0</td>\n      <td>NN</td>\n      <td>7</td>\n      <td>2</td>\n      <td>NaN</td>\n      <td>NaN</td>\n      <td>NaN</td>\n      <td>NaN</td>\n      <td>NaN</td>\n    </tr>\n    <tr>\n      <th>1</th>\n      <td>糟报</td>\n      <td>adj</td>\n      <td>1.0</td>\n      <td>1.0</td>\n      <td>NN</td>\n      <td>5</td>\n      <td>2</td>\n      <td>NaN</td>\n      <td>NaN</td>\n      <td>NaN</td>\n      <td>NaN</td>\n      <td>NaN</td>\n    </tr>\n    <tr>\n      <th>2</th>\n      <td>早衰</td>\n      <td>adj</td>\n      <td>1.0</td>\n      <td>1.0</td>\n      <td>NE</td>\n      <td>5</td>\n      <td>2</td>\n      <td>NaN</td>\n      <td>NaN</td>\n      <td>NaN</td>\n      <td>NaN</td>\n      <td>NaN</td>\n    </tr>\n    <tr>\n      <th>3</th>\n      <td>责备</td>\n      <td>verb</td>\n      <td>1.0</td>\n      <td>1.0</td>\n      <td>NN</td>\n      <td>5</td>\n      <td>2</td>\n      <td>NaN</td>\n      <td>NaN</td>\n      <td>NaN</td>\n      <td>NaN</td>\n      <td>NaN</td>\n    </tr>\n    <tr>\n      <th>4</th>\n      <td>贼眼</td>\n      <td>noun</td>\n      <td>1.0</td>\n      <td>1.0</td>\n      <td>NN</td>\n      <td>5</td>\n      <td>2</td>\n      <td>NaN</td>\n      <td>NaN</td>\n      <td>NaN</td>\n      <td>NaN</td>\n      <td>NaN</td>\n    </tr>\n  </tbody>\n</table>\n</div>"
     },
     "metadata": {},
     "execution_count": 22
    }
   ],
   "source": [
    "# 导入情感强度语料库\n",
    "df_corpus = pd.read_excel(r'E:\\VSCODE\\毕业论文\\数据集\\情感词典修改版.xlsx')\n",
    "df_corpus.head()"
   ]
  },
  {
   "cell_type": "code",
   "execution_count": 23,
   "metadata": {},
   "outputs": [
    {
     "output_type": "execute_result",
     "data": {
      "text/plain": [
       "    词语  强度\n",
       "0   脏乱   7\n",
       "1   糟报   5\n",
       "2   早衰   5\n",
       "3   责备   5\n",
       "4   贼眼   5\n",
       "5   战祸   5\n",
       "6   招灾   5\n",
       "7   折辱   5\n",
       "8  中山狼   5\n",
       "9   清峻   5"
      ],
      "text/html": "<div>\n<style scoped>\n    .dataframe tbody tr th:only-of-type {\n        vertical-align: middle;\n    }\n\n    .dataframe tbody tr th {\n        vertical-align: top;\n    }\n\n    .dataframe thead th {\n        text-align: right;\n    }\n</style>\n<table border=\"1\" class=\"dataframe\">\n  <thead>\n    <tr style=\"text-align: right;\">\n      <th></th>\n      <th>词语</th>\n      <th>强度</th>\n    </tr>\n  </thead>\n  <tbody>\n    <tr>\n      <th>0</th>\n      <td>脏乱</td>\n      <td>7</td>\n    </tr>\n    <tr>\n      <th>1</th>\n      <td>糟报</td>\n      <td>5</td>\n    </tr>\n    <tr>\n      <th>2</th>\n      <td>早衰</td>\n      <td>5</td>\n    </tr>\n    <tr>\n      <th>3</th>\n      <td>责备</td>\n      <td>5</td>\n    </tr>\n    <tr>\n      <th>4</th>\n      <td>贼眼</td>\n      <td>5</td>\n    </tr>\n    <tr>\n      <th>5</th>\n      <td>战祸</td>\n      <td>5</td>\n    </tr>\n    <tr>\n      <th>6</th>\n      <td>招灾</td>\n      <td>5</td>\n    </tr>\n    <tr>\n      <th>7</th>\n      <td>折辱</td>\n      <td>5</td>\n    </tr>\n    <tr>\n      <th>8</th>\n      <td>中山狼</td>\n      <td>5</td>\n    </tr>\n    <tr>\n      <th>9</th>\n      <td>清峻</td>\n      <td>5</td>\n    </tr>\n  </tbody>\n</table>\n</div>"
     },
     "metadata": {},
     "execution_count": 23
    }
   ],
   "source": [
    "df_corpus = df_corpus.drop(columns=['极性', '辅助情感分类', '强度2', '极性2','词性种类','词义数','词义序号','情感分类','Unnamed: 10','Unnamed: 11'])\n",
    "df_corpus.head(10)"
   ]
  },
  {
   "cell_type": "code",
   "execution_count": 24,
   "metadata": {},
   "outputs": [
    {
     "output_type": "execute_result",
     "data": {
      "text/plain": [
       "词语    0\n",
       "强度    0\n",
       "dtype: int64"
      ]
     },
     "metadata": {},
     "execution_count": 24
    }
   ],
   "source": [
    "df_corpus.isnull().sum()"
   ]
  }
 ]
}