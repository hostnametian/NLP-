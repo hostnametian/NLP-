{
 "metadata": {
  "language_info": {
   "codemirror_mode": {
    "name": "ipython",
    "version": 3
   },
   "file_extension": ".py",
   "mimetype": "text/x-python",
   "name": "python",
   "nbconvert_exporter": "python",
   "pygments_lexer": "ipython3",
   "version": "3.8.3-final"
  },
  "orig_nbformat": 2,
  "kernelspec": {
   "name": "python3",
   "display_name": "Python 3.8.3 64-bit (conda)",
   "metadata": {
    "interpreter": {
     "hash": "51a9663a131f1b5758c45b97a2d6917c8ae86b33e231c3733631cbc7265cfc89"
    }
   }
  }
 },
 "nbformat": 4,
 "nbformat_minor": 2,
 "cells": [
  {
   "cell_type": "code",
   "execution_count": 41,
   "metadata": {},
   "outputs": [],
   "source": [
    "import pandas as pd"
   ]
  },
  {
   "cell_type": "code",
   "execution_count": 42,
   "metadata": {},
   "outputs": [],
   "source": [
    "# 读取原数据集\n",
    "df = pd.read_csv(r'E:\\VSCODE\\毕业论文\\数据集\\dazhongdianping.csv',encoding='utf-8')\n",
    "# 对原数据进行处理（去除空值）\n",
    "df.dropna(axis=0, how='any', inplace=True)"
   ]
  },
  {
   "cell_type": "code",
   "execution_count": 43,
   "metadata": {},
   "outputs": [
    {
     "output_type": "execute_result",
     "data": {
      "text/plain": [
       "userId                0\n",
       "restId                0\n",
       "rating                0\n",
       "rating_price          0\n",
       "rating_flavor         0\n",
       "rating_waitingtime    0\n",
       "comment               0\n",
       "dtype: int64"
      ]
     },
     "metadata": {},
     "execution_count": 43
    }
   ],
   "source": [
    "# 查看是否还有空值\n",
    "df.isnull().sum()"
   ]
  },
  {
   "source": [
    "### 利用Pandas库中的sample抽取指定的样本\n",
    "\n",
    "DataFrame.sample(n=None, frac=None, replace=False, weights=None, random_state=None, axis=None)\n",
    "\n",
    "- n是要抽取的行数。（例如n=20000时，抽取其中的2W行）\n",
    "\n",
    "- frac 是抽取的比列。（有一些时候，我们并对具体抽取的行数不关心，我们想抽取其中的百分比，这个时候就可以选择使用frac，例如frac=0.8，就是抽取其中80%）\n",
    "\n",
    "- replace：是否为有放回抽样，取replace=True时为有放回抽样。\n",
    "\n",
    "- weights 这个是每个样本的权重。\n",
    "\n",
    "- random_state 随机种子。\n",
    "\n",
    "- axis 是选择抽取数据的行还是列。axis=0的时是抽取行，axis=1时是抽取列（也就是说axis=1时，在列中随机抽取n列，在axis=0时，在行中随机抽取n行）"
   ],
   "cell_type": "markdown",
   "metadata": {}
  },
  {
   "cell_type": "code",
   "execution_count": 44,
   "metadata": {},
   "outputs": [],
   "source": [
    "# 利用Pandas库中的sample 抽取1%的数据\n",
    "df_sample = df.sample(frac=0.01)"
   ]
  },
  {
   "cell_type": "code",
   "execution_count": 45,
   "metadata": {},
   "outputs": [
    {
     "output_type": "execute_result",
     "data": {
      "text/plain": [
       "           userId    restId  rating  rating_price  rating_flavor  \\\n",
       "1010163   57769.0   11121.0     4.0           3.0            4.0   \n",
       "2795559  152757.0   12904.0     4.0           2.0            2.0   \n",
       "2534449  138749.0   16014.0     5.0           2.0            4.0   \n",
       "180702     6187.0  103198.0     4.0           1.0            3.0   \n",
       "1235121   65763.0  188530.0     5.0           5.0            5.0   \n",
       "\n",
       "         rating_waitingtime                                            comment  \n",
       "1010163                 4.0  喜欢他们家的盒子，很卡通的\\n偶尔去吃吃还可以，但是如果经常去的话就会比较腻了\\n比较喜欢吃...  \n",
       "2795559                 2.0  这个应该也算是老字号的食品店吧,人气也是很足的,买服务态度也满好的,喜欢里面的蝴蝶酥还有鲜肉...  \n",
       "2534449                 4.0  油爆虾很入味，汁很多，用醋，绍酒，糖，酱油之类的调制。45一盘，朋友说比以前份量少了，可是看...  \n",
       "180702                  2.0  菜市口脏麻V5！环境巨脏巨次，吃一次拉一次，但是还总想着去吃，哈哈哈……下雨天也排大队什么的...  \n",
       "1235121                 5.0  有空就去宜家，出了找创意，还喜欢和老公买这里的雪糕和肉丸，卖场出口处，超便宜，口味也很好，可...  "
      ],
      "text/html": "<div>\n<style scoped>\n    .dataframe tbody tr th:only-of-type {\n        vertical-align: middle;\n    }\n\n    .dataframe tbody tr th {\n        vertical-align: top;\n    }\n\n    .dataframe thead th {\n        text-align: right;\n    }\n</style>\n<table border=\"1\" class=\"dataframe\">\n  <thead>\n    <tr style=\"text-align: right;\">\n      <th></th>\n      <th>userId</th>\n      <th>restId</th>\n      <th>rating</th>\n      <th>rating_price</th>\n      <th>rating_flavor</th>\n      <th>rating_waitingtime</th>\n      <th>comment</th>\n    </tr>\n  </thead>\n  <tbody>\n    <tr>\n      <th>1010163</th>\n      <td>57769.0</td>\n      <td>11121.0</td>\n      <td>4.0</td>\n      <td>3.0</td>\n      <td>4.0</td>\n      <td>4.0</td>\n      <td>喜欢他们家的盒子，很卡通的\\n偶尔去吃吃还可以，但是如果经常去的话就会比较腻了\\n比较喜欢吃...</td>\n    </tr>\n    <tr>\n      <th>2795559</th>\n      <td>152757.0</td>\n      <td>12904.0</td>\n      <td>4.0</td>\n      <td>2.0</td>\n      <td>2.0</td>\n      <td>2.0</td>\n      <td>这个应该也算是老字号的食品店吧,人气也是很足的,买服务态度也满好的,喜欢里面的蝴蝶酥还有鲜肉...</td>\n    </tr>\n    <tr>\n      <th>2534449</th>\n      <td>138749.0</td>\n      <td>16014.0</td>\n      <td>5.0</td>\n      <td>2.0</td>\n      <td>4.0</td>\n      <td>4.0</td>\n      <td>油爆虾很入味，汁很多，用醋，绍酒，糖，酱油之类的调制。45一盘，朋友说比以前份量少了，可是看...</td>\n    </tr>\n    <tr>\n      <th>180702</th>\n      <td>6187.0</td>\n      <td>103198.0</td>\n      <td>4.0</td>\n      <td>1.0</td>\n      <td>3.0</td>\n      <td>2.0</td>\n      <td>菜市口脏麻V5！环境巨脏巨次，吃一次拉一次，但是还总想着去吃，哈哈哈……下雨天也排大队什么的...</td>\n    </tr>\n    <tr>\n      <th>1235121</th>\n      <td>65763.0</td>\n      <td>188530.0</td>\n      <td>5.0</td>\n      <td>5.0</td>\n      <td>5.0</td>\n      <td>5.0</td>\n      <td>有空就去宜家，出了找创意，还喜欢和老公买这里的雪糕和肉丸，卖场出口处，超便宜，口味也很好，可...</td>\n    </tr>\n  </tbody>\n</table>\n</div>"
     },
     "metadata": {},
     "execution_count": 45
    }
   ],
   "source": [
    "df_sample.head()"
   ]
  },
  {
   "cell_type": "code",
   "execution_count": 46,
   "metadata": {},
   "outputs": [
    {
     "output_type": "execute_result",
     "data": {
      "text/plain": [
       "                      count      mean       std  min  25%  50%  75%  max\n",
       "rating              26831.0  3.592673  0.867419  1.0  3.0  4.0  4.0  5.0\n",
       "rating_price        26831.0  2.794193  0.922723  1.0  2.0  3.0  3.0  5.0\n",
       "rating_flavor       26831.0  3.087063  0.948479  1.0  2.0  3.0  4.0  5.0\n",
       "rating_waitingtime  26831.0  2.762402  0.941650  1.0  2.0  3.0  3.0  5.0"
      ],
      "text/html": "<div>\n<style scoped>\n    .dataframe tbody tr th:only-of-type {\n        vertical-align: middle;\n    }\n\n    .dataframe tbody tr th {\n        vertical-align: top;\n    }\n\n    .dataframe thead th {\n        text-align: right;\n    }\n</style>\n<table border=\"1\" class=\"dataframe\">\n  <thead>\n    <tr style=\"text-align: right;\">\n      <th></th>\n      <th>count</th>\n      <th>mean</th>\n      <th>std</th>\n      <th>min</th>\n      <th>25%</th>\n      <th>50%</th>\n      <th>75%</th>\n      <th>max</th>\n    </tr>\n  </thead>\n  <tbody>\n    <tr>\n      <th>rating</th>\n      <td>26831.0</td>\n      <td>3.592673</td>\n      <td>0.867419</td>\n      <td>1.0</td>\n      <td>3.0</td>\n      <td>4.0</td>\n      <td>4.0</td>\n      <td>5.0</td>\n    </tr>\n    <tr>\n      <th>rating_price</th>\n      <td>26831.0</td>\n      <td>2.794193</td>\n      <td>0.922723</td>\n      <td>1.0</td>\n      <td>2.0</td>\n      <td>3.0</td>\n      <td>3.0</td>\n      <td>5.0</td>\n    </tr>\n    <tr>\n      <th>rating_flavor</th>\n      <td>26831.0</td>\n      <td>3.087063</td>\n      <td>0.948479</td>\n      <td>1.0</td>\n      <td>2.0</td>\n      <td>3.0</td>\n      <td>4.0</td>\n      <td>5.0</td>\n    </tr>\n    <tr>\n      <th>rating_waitingtime</th>\n      <td>26831.0</td>\n      <td>2.762402</td>\n      <td>0.941650</td>\n      <td>1.0</td>\n      <td>2.0</td>\n      <td>3.0</td>\n      <td>3.0</td>\n      <td>5.0</td>\n    </tr>\n  </tbody>\n</table>\n</div>"
     },
     "metadata": {},
     "execution_count": 46
    }
   ],
   "source": [
    "# 数据统计\n",
    "df_sample[['rating','rating_price','rating_flavor','rating_waitingtime']].describe().T"
   ]
  },
  {
   "cell_type": "code",
   "execution_count": 47,
   "metadata": {},
   "outputs": [],
   "source": [
    "import jieba\n",
    "import re"
   ]
  },
  {
   "cell_type": "code",
   "execution_count": 48,
   "metadata": {},
   "outputs": [],
   "source": [
    "# 载入停用词库\n",
    "stopwords_path = r'E:\\VSCODE\\毕业论文\\数据集\\stopwords-cn.txt'\n",
    "stopwords = open(stopwords_path,encoding='utf-8').read().splitlines()"
   ]
  },
  {
   "cell_type": "code",
   "execution_count": 49,
   "metadata": {
    "tags": []
   },
   "outputs": [
    {
     "output_type": "execute_result",
     "data": {
      "text/plain": [
       "'喜'"
      ]
     },
     "metadata": {},
     "execution_count": 49
    }
   ],
   "source": [
    "# 去除中文以外的所有字符\n",
    "str_out = []\n",
    "for cn_wrod in df_sample['comment']:\n",
    "    text0 =cn_wrod  # 获取文本内容\n",
    "    text1 = re.sub(\"[\\.\\!\\/_,$%^*(+\\\"\\']+|[+——！，。？、~@#￥%……&*（）]+\", \"\", text0)  # 去除标点及特殊符号\n",
    "    text2 = re.sub(\"[^\\u4e00-\\u9fa5]\", \"\", text1)  # 去除所有非汉字内容（英文数字）\n",
    "    str_out.append(text2)\n",
    "str_out[0][0]"
   ]
  },
  {
   "cell_type": "code",
   "execution_count": 50,
   "metadata": {
    "tags": []
   },
   "outputs": [
    {
     "output_type": "execute_result",
     "data": {
      "text/plain": [
       "'喜欢 他们 家 的 盒子 很 卡通 的 偶尔 去 吃 吃 还 可以 但是 如果 经常 去 的话 就 会 比较 腻 了 比较 喜欢 吃 香草 的 一股 香香的 味道 感觉 很 温暖'"
      ]
     },
     "metadata": {},
     "execution_count": 50
    }
   ],
   "source": [
    "# 用结巴分词并使用停用词\n",
    "words_out=[]\n",
    "for word in str_out:\n",
    "    jieba_cut = jieba.cut(word,cut_all=False)\n",
    "    jieba_word = ' '.join(list(jieba_cut))\n",
    "    # str_stop_word = [word for word in jieba_cut if word not in stopwords]\n",
    "    \n",
    "    words_out.append(jieba_word)\n",
    "words_out[0]"
   ]
  },
  {
   "cell_type": "code",
   "execution_count": 51,
   "metadata": {},
   "outputs": [
    {
     "output_type": "execute_result",
     "data": {
      "text/plain": [
       "'喜欢 他们 家 的 盒子 很 卡通 的 偶尔 去 吃 吃 还 可以 但是 如果 经常 去 的话 就 会 比较 腻 了 比较 喜欢 吃 香草 的 一股 香香的 味道 感觉 很 温暖'"
      ]
     },
     "metadata": {},
     "execution_count": 51
    }
   ],
   "source": [
    "# 停用词\n",
    "str_stop = []\n",
    "for word in words_out:\n",
    "    if word not in stopwords:\n",
    "        str_stop.append(word)\n",
    "str_stop[0]"
   ]
  },
  {
   "source": [
    "### 词向量化"
   ],
   "cell_type": "markdown",
   "metadata": {}
  },
  {
   "source": [
    "### 1.glove方法"
   ],
   "cell_type": "markdown",
   "metadata": {}
  },
  {
   "cell_type": "code",
   "execution_count": 52,
   "metadata": {},
   "outputs": [],
   "source": [
    "# 导入glove模块\n",
    "from glove import Glove,Corpus"
   ]
  },
  {
   "cell_type": "code",
   "execution_count": 53,
   "metadata": {},
   "outputs": [],
   "source": [
    "# 准备要向量化的数据\n",
    "\n",
    "sentense = [str_stop]\n",
    "# 实例化语料库模型\n",
    "corpus_model = Corpus()"
   ]
  },
  {
   "cell_type": "code",
   "execution_count": 54,
   "metadata": {},
   "outputs": [],
   "source": [
    "# 训练corpus_model\n",
    "corpus_model.fit(sentense,window=10)"
   ]
  },
  {
   "cell_type": "code",
   "execution_count": 55,
   "metadata": {},
   "outputs": [
    {
     "output_type": "stream",
     "name": "stdout",
     "text": [
      "Dict size: 26815\nCollocations: 268255\n"
     ]
    }
   ],
   "source": [
    "corpus_model.save('corpus_model_vector')\n",
    "print('Dict size: %s' % len(corpus_model.dictionary)) # 打印训练模型大小\n",
    "print('Collocations: %s' % corpus_model.matrix.nnz)"
   ]
  },
  {
   "cell_type": "code",
   "execution_count": 56,
   "metadata": {},
   "outputs": [
    {
     "output_type": "stream",
     "name": "stdout",
     "text": [
      "Performing 200 training epochs with 6 threads\n",
      "Epoch 0\n",
      "Epoch 1\n",
      "Epoch 2\n",
      "Epoch 3\n",
      "Epoch 4\n",
      "Epoch 5\n",
      "Epoch 6\n",
      "Epoch 7\n",
      "Epoch 8\n",
      "Epoch 9\n",
      "Epoch 10\n",
      "Epoch 11\n",
      "Epoch 12\n",
      "Epoch 13\n",
      "Epoch 14\n",
      "Epoch 15\n",
      "Epoch 16\n",
      "Epoch 17\n",
      "Epoch 18\n",
      "Epoch 19\n",
      "Epoch 20\n",
      "Epoch 21\n",
      "Epoch 22\n",
      "Epoch 23\n",
      "Epoch 24\n",
      "Epoch 25\n",
      "Epoch 26\n",
      "Epoch 27\n",
      "Epoch 28\n",
      "Epoch 29\n",
      "Epoch 30\n",
      "Epoch 31\n",
      "Epoch 32\n",
      "Epoch 33\n",
      "Epoch 34\n",
      "Epoch 35\n",
      "Epoch 36\n",
      "Epoch 37\n",
      "Epoch 38\n",
      "Epoch 39\n",
      "Epoch 40\n",
      "Epoch 41\n",
      "Epoch 42\n",
      "Epoch 43\n",
      "Epoch 44\n",
      "Epoch 45\n",
      "Epoch 46\n",
      "Epoch 47\n",
      "Epoch 48\n",
      "Epoch 49\n",
      "Epoch 50\n",
      "Epoch 51\n",
      "Epoch 52\n",
      "Epoch 53\n",
      "Epoch 54\n",
      "Epoch 55\n",
      "Epoch 56\n",
      "Epoch 57\n",
      "Epoch 58\n",
      "Epoch 59\n",
      "Epoch 60\n",
      "Epoch 61\n",
      "Epoch 62\n",
      "Epoch 63\n",
      "Epoch 64\n",
      "Epoch 65\n",
      "Epoch 66\n",
      "Epoch 67\n",
      "Epoch 68\n",
      "Epoch 69\n",
      "Epoch 70\n",
      "Epoch 71\n",
      "Epoch 72\n",
      "Epoch 73\n",
      "Epoch 74\n",
      "Epoch 75\n",
      "Epoch 76\n",
      "Epoch 77\n",
      "Epoch 78\n",
      "Epoch 79\n",
      "Epoch 80\n",
      "Epoch 81\n",
      "Epoch 82\n",
      "Epoch 83\n",
      "Epoch 84\n",
      "Epoch 85\n",
      "Epoch 86\n",
      "Epoch 87\n",
      "Epoch 88\n",
      "Epoch 89\n",
      "Epoch 90\n",
      "Epoch 91\n",
      "Epoch 92\n",
      "Epoch 93\n",
      "Epoch 94\n",
      "Epoch 95\n",
      "Epoch 96\n",
      "Epoch 97\n",
      "Epoch 98\n",
      "Epoch 99\n",
      "Epoch 100\n",
      "Epoch 101\n",
      "Epoch 102\n",
      "Epoch 103\n",
      "Epoch 104\n",
      "Epoch 105\n",
      "Epoch 106\n",
      "Epoch 107\n",
      "Epoch 108\n",
      "Epoch 109\n",
      "Epoch 110\n",
      "Epoch 111\n",
      "Epoch 112\n",
      "Epoch 113\n",
      "Epoch 114\n",
      "Epoch 115\n",
      "Epoch 116\n",
      "Epoch 117\n",
      "Epoch 118\n",
      "Epoch 119\n",
      "Epoch 120\n",
      "Epoch 121\n",
      "Epoch 122\n",
      "Epoch 123\n",
      "Epoch 124\n",
      "Epoch 125\n",
      "Epoch 126\n",
      "Epoch 127\n",
      "Epoch 128\n",
      "Epoch 129\n",
      "Epoch 130\n",
      "Epoch 131\n",
      "Epoch 132\n",
      "Epoch 133\n",
      "Epoch 134\n",
      "Epoch 135\n",
      "Epoch 136\n",
      "Epoch 137\n",
      "Epoch 138\n",
      "Epoch 139\n",
      "Epoch 140\n",
      "Epoch 141\n",
      "Epoch 142\n",
      "Epoch 143\n",
      "Epoch 144\n",
      "Epoch 145\n",
      "Epoch 146\n",
      "Epoch 147\n",
      "Epoch 148\n",
      "Epoch 149\n",
      "Epoch 150\n",
      "Epoch 151\n",
      "Epoch 152\n",
      "Epoch 153\n",
      "Epoch 154\n",
      "Epoch 155\n",
      "Epoch 156\n",
      "Epoch 157\n",
      "Epoch 158\n",
      "Epoch 159\n",
      "Epoch 160\n",
      "Epoch 161\n",
      "Epoch 162\n",
      "Epoch 163\n",
      "Epoch 164\n",
      "Epoch 165\n",
      "Epoch 166\n",
      "Epoch 167\n",
      "Epoch 168\n",
      "Epoch 169\n",
      "Epoch 170\n",
      "Epoch 171\n",
      "Epoch 172\n",
      "Epoch 173\n",
      "Epoch 174\n",
      "Epoch 175\n",
      "Epoch 176\n",
      "Epoch 177\n",
      "Epoch 178\n",
      "Epoch 179\n",
      "Epoch 180\n",
      "Epoch 181\n",
      "Epoch 182\n",
      "Epoch 183\n",
      "Epoch 184\n",
      "Epoch 185\n",
      "Epoch 186\n",
      "Epoch 187\n",
      "Epoch 188\n",
      "Epoch 189\n",
      "Epoch 190\n",
      "Epoch 191\n",
      "Epoch 192\n",
      "Epoch 193\n",
      "Epoch 194\n",
      "Epoch 195\n",
      "Epoch 196\n",
      "Epoch 197\n",
      "Epoch 198\n",
      "Epoch 199\n"
     ]
    }
   ],
   "source": [
    "# glove 的训练\n",
    "glove = Glove(no_components=100,learning_rate=0.05)\n",
    "glove.fit(corpus_model.matrix,epochs = 200,no_threads = 6,verbose = True)\n",
    "glove.add_dictionary(corpus_model.dictionary)"
   ]
  },
  {
   "cell_type": "code",
   "execution_count": 57,
   "metadata": {},
   "outputs": [],
   "source": [
    "# 保存Glove模型\n",
    "glove.save('glove_model_sentence')"
   ]
  },
  {
   "cell_type": "code",
   "execution_count": 58,
   "metadata": {},
   "outputs": [],
   "source": [
    "# 词向量（数组类型）\n",
    "words_vectors = glove.word_vectors"
   ]
  },
  {
   "cell_type": "code",
   "execution_count": 59,
   "metadata": {},
   "outputs": [
    {
     "output_type": "execute_result",
     "data": {
      "text/plain": [
       "'喜欢 他们 家 的 盒子 很 卡通 的 偶尔 去 吃 吃 还 可以 但是 如果 经常 去 的话 就 会 比较 腻 了 比较 喜欢 吃 香草 的 一股 香香的 味道 感觉 很 温暖'"
      ]
     },
     "metadata": {},
     "execution_count": 59
    }
   ],
   "source": [
    "str_stop[0]"
   ]
  },
  {
   "cell_type": "code",
   "execution_count": 60,
   "metadata": {},
   "outputs": [
    {
     "output_type": "execute_result",
     "data": {
      "text/plain": [
       "array([-0.00042637,  0.00260173,  0.00434603,  0.00477955, -0.00234784,\n",
       "        0.00171945, -0.00355883,  0.00318331,  0.00525106,  0.00256926,\n",
       "       -0.00559164,  0.00129618, -0.00356281, -0.0013275 ,  0.00466399,\n",
       "       -0.00509879, -0.00525182, -0.00362616, -0.00428413,  0.00018334,\n",
       "       -0.00236972, -0.00091306,  0.00152951, -0.00041313,  0.00082575,\n",
       "        0.0035143 , -0.00422022,  0.00289465,  0.00380301, -0.00218647,\n",
       "       -0.00133181, -0.0005916 ,  0.00074599, -0.00178439, -0.00053483,\n",
       "       -0.00127108,  0.00360612, -0.00585692,  0.00214786,  0.00194452,\n",
       "        0.00059327,  0.00234804, -0.00511655, -0.00416349,  0.00336864,\n",
       "        0.00371206, -0.00173705,  0.00414225,  0.00090369,  0.00472821,\n",
       "       -0.00352779, -0.00552685, -0.00498403, -0.00350763, -0.00228075,\n",
       "        0.00383519, -0.00395183,  0.00292717,  0.00449221,  0.00295432,\n",
       "        0.00251587, -0.00203868,  0.00491539,  0.00108472, -0.00607617,\n",
       "        0.00241704, -0.00012328, -0.00103504,  0.00398641,  0.00441025,\n",
       "        0.0042068 ,  0.00536559, -0.00282619, -0.00188047,  0.00345981,\n",
       "        0.00209408, -0.0001827 , -0.00431421, -0.00304523,  0.00394701,\n",
       "       -0.00344765, -0.00122471, -0.00207508, -0.00097283,  0.0020691 ,\n",
       "       -0.00130764, -0.00057655, -0.00341804,  0.00080604, -0.003707  ,\n",
       "        0.00307495, -0.00260297,  0.0004812 ,  0.0020174 ,  0.00156642,\n",
       "        0.00370524,  0.00134444, -0.00034839, -0.002817  , -0.00187301])"
      ]
     },
     "metadata": {},
     "execution_count": 60
    }
   ],
   "source": [
    "# 查看指定词向量(列表、元组，字典不可哈希)\n",
    "glove.word_vectors[glove.dictionary[str_stop[0]]]"
   ]
  },
  {
   "cell_type": "code",
   "execution_count": 61,
   "metadata": {},
   "outputs": [
    {
     "output_type": "execute_result",
     "data": {
      "text/plain": [
       "[('第一次 吃 吉野家 就是 在 这里 了 和 一 起来 的 坏境 不错 我 比较 喜欢 牛肉 饭 吃 的 什么 记不清 了 还 送 了 一支 软陶 笔 喜欢',\n",
       "  0.39161479186502285),\n",
       " ('年 去 的 记得 那 时候 不 叫 这个 名字 吧 一直 没有 点评 名字 都 变 了 呀 去 那里 溜冰 然后 同学 推荐 去 的 记得 第一个 菜 很 惊艳 啊 咖喱 牛腩 非常 难道 是 那个 时候 饿 了 吗 反正 记忆 中 总是 好吃 的',\n",
       "  0.3668121311468867),\n",
       " ('饺子 还 不错 小菜 太小 饺子 汤 不让 自己 乘 就 睡 品种 太 少 上菜 太慢 了 这个 位置 上 的 餐厅 不是 特别 大 的 就是 这种 感觉 品质 一般 吧 不 推荐 总去 要是 逛街 累 了 就 随便 了',\n",
       "  0.3554963795901843),\n",
       " ('这间 店 真是 好 出名 每次 去 都 要 等位 呢 间系 老公 仔 最 中意 噶 吃饺子 噶店 元 只 基本上 每个 人去 都 会 必点 噶 就是 距 老公 仔话 细细 个 就 吃 到 家 次次 都 会 来 宜家 吃饺子 不但 大 只 而且 足料 家 上 碗 朱红 汤 就 完美 啦 但是 我 觉得 紫菜汤 仲好 每次 出 街 如果 想 唔 到 去 边 吃 野噶话 差不多 就黎 呢 间 就是 潮楼 对面 好 方便 不过 就是 觉得 系间 左 呢 家 八珍 越开 越 多 但是 间间 都 没 呢 间 甘 原汁原味 其他 总 觉得 差少少 可能 其他 已经 发展 到 除 左 饺子 还有 粥 粉面 饭 可能 就 没甘 注重 吧 我 同 老公 仔去 通常 都 要 两份 饺子 因为 我 中意 玉米 饺子 而 距 中意 韭菜 饺子 所以 次次 都 要 吃 好多 呵呵 呵 真是 好 好吃 如果 你 想 吃饺子 还是 这件 八珍 的 好 嘻嘻',\n",
       "  0.3531159986109511)]"
      ]
     },
     "metadata": {},
     "execution_count": 61
    }
   ],
   "source": [
    "# 近似词判定\n",
    "glove.most_similar(str_stop[0],number=5)"
   ]
  },
  {
   "source": [
    "### 人工标注情感分类数据集"
   ],
   "cell_type": "markdown",
   "metadata": {}
  },
  {
   "cell_type": "code",
   "execution_count": 68,
   "metadata": {},
   "outputs": [
    {
     "output_type": "execute_result",
     "data": {
      "text/plain": [
       "(13416, 7)"
      ]
     },
     "metadata": {},
     "execution_count": 68
    }
   ],
   "source": [
    "# 抽取一半数据做人工标记\n",
    "data_emotion = df_sample.sample(frac=0.5)\n",
    "data_emotion.shape"
   ]
  },
  {
   "cell_type": "code",
   "execution_count": 69,
   "metadata": {},
   "outputs": [],
   "source": [
    "# data_emotion.to_csv(r'E:\\VSCODE\\毕业论文\\数据集\\emotion.csv')"
   ]
  },
  {
   "source": [
    "### 建立情感分类预测模型"
   ],
   "cell_type": "markdown",
   "metadata": {}
  },
  {
   "cell_type": "code",
   "execution_count": 316,
   "metadata": {},
   "outputs": [],
   "source": [
    "# 读取数据\n",
    "df_emotion = pd.read_csv(r'E:\\VSCODE\\毕业论文\\数据集\\emotion.csv')"
   ]
  },
  {
   "cell_type": "code",
   "execution_count": 317,
   "metadata": {},
   "outputs": [
    {
     "output_type": "execute_result",
     "data": {
      "text/plain": [
       "userId                0\n",
       "restId                0\n",
       "rating                0\n",
       "rating_price          0\n",
       "rating_flavor         0\n",
       "rating_waitingtime    0\n",
       "comment               0\n",
       "emotion               0\n",
       "dtype: int64"
      ]
     },
     "metadata": {},
     "execution_count": 317
    }
   ],
   "source": [
    "# 查看空值\n",
    "df_emotion.isnull().sum()"
   ]
  },
  {
   "cell_type": "code",
   "execution_count": 320,
   "metadata": {},
   "outputs": [
    {
     "output_type": "execute_result",
     "data": {
      "text/plain": [
       "''"
      ]
     },
     "metadata": {},
     "execution_count": 320
    }
   ],
   "source": [
    "# 去除中文以外的所有字符\n",
    "str_out_emotion = []\n",
    "for cn_wrod in df_emotion['comment']:\n",
    "    text0 =cn_wrod  # 获取文本内容\n",
    "    text1 = re.sub(\"[\\.\\!\\/_,$%^*(+\\\"\\']+|[+——！，。？、~@#￥%……&*（）]+\", \"\", text0)  # 去除标点及特殊符号\n",
    "    text2 = re.sub(\"[^\\u4e00-\\u9fa5]\", \"\", text1)  # 去除所有非汉字内容（英文数字）\n",
    "    str_out_emotion.append(text2)\n",
    "str_out_emotion[117]"
   ]
  },
  {
   "cell_type": "code",
   "execution_count": 337,
   "metadata": {},
   "outputs": [],
   "source": [
    "# 处理文本（结巴分词）并载入停用词\n",
    "emotion_words = []\n",
    "for word in str_out_emotion:\n",
    "    jieba_cut = jieba.cut(word,cut_all=False)\n",
    "    jieba_word = [word for word in jieba_cut if word not in stopwords] \n",
    "    emotion_words.append(jieba_word)"
   ]
  },
  {
   "cell_type": "code",
   "execution_count": 349,
   "metadata": {},
   "outputs": [],
   "source": [
    "df_emotion['comment'] = pd.Series(emotion_words)"
   ]
  },
  {
   "cell_type": "code",
   "execution_count": 351,
   "metadata": {},
   "outputs": [
    {
     "output_type": "execute_result",
     "data": {
      "text/plain": [
       "userId                 0\n",
       "restId                 0\n",
       "rating                 0\n",
       "rating_price           0\n",
       "rating_flavor          0\n",
       "rating_waitingtime     0\n",
       "comment               15\n",
       "emotion                0\n",
       "dtype: int64"
      ]
     },
     "metadata": {},
     "execution_count": 351
    }
   ],
   "source": [
    "# 查看空值\n",
    "df_emotion.isnull().sum()"
   ]
  },
  {
   "cell_type": "code",
   "execution_count": 352,
   "metadata": {},
   "outputs": [],
   "source": [
    "# 去除空值\n",
    "df_emotion.dropna(axis=0,how='any',inplace=True)"
   ]
  },
  {
   "cell_type": "code",
   "execution_count": 354,
   "metadata": {},
   "outputs": [
    {
     "output_type": "execute_result",
     "data": {
      "text/plain": [
       "(13399,)"
      ]
     },
     "metadata": {},
     "execution_count": 354
    }
   ],
   "source": [
    "df_emotion['emotion'].shape"
   ]
  },
  {
   "cell_type": "code",
   "execution_count": 355,
   "metadata": {},
   "outputs": [
    {
     "output_type": "execute_result",
     "data": {
      "text/plain": [
       "13399"
      ]
     },
     "metadata": {},
     "execution_count": 355
    }
   ],
   "source": [
    "len(emotion_words)"
   ]
  },
  {
   "source": [
    "### 使用glove向量化"
   ],
   "cell_type": "markdown",
   "metadata": {}
  },
  {
   "cell_type": "code",
   "execution_count": 357,
   "metadata": {},
   "outputs": [],
   "source": [
    "# 准备要向量化的数据\n",
    "sentense_emotion = emotion_words\n",
    "# 实例化语料库模型\n",
    "corpus_model_emotion = Corpus()"
   ]
  },
  {
   "cell_type": "code",
   "execution_count": 360,
   "metadata": {},
   "outputs": [],
   "source": [
    "# 训练corpus_model\n",
    "corpus_model_emotion.fit(sentense_emotion,window=10)"
   ]
  },
  {
   "cell_type": "code",
   "execution_count": 361,
   "metadata": {},
   "outputs": [
    {
     "output_type": "stream",
     "name": "stdout",
     "text": [
      "Dict size: 51041\nCollocations: 2776844\n"
     ]
    }
   ],
   "source": [
    "# 保存语料库模型\n",
    "corpus_model_emotion.save('corpus_model_emotion')\n",
    "print('Dict size: %s' % len(corpus_model_emotion.dictionary)) # 打印训练模型大小\n",
    "print('Collocations: %s' % corpus_model_emotion.matrix.nnz)"
   ]
  },
  {
   "cell_type": "code",
   "execution_count": 362,
   "metadata": {},
   "outputs": [
    {
     "output_type": "stream",
     "name": "stdout",
     "text": [
      "Performing 300 training epochs with 6 threads\n",
      "Epoch 0\n",
      "Epoch 1\n",
      "Epoch 2\n",
      "Epoch 3\n",
      "Epoch 4\n",
      "Epoch 5\n",
      "Epoch 6\n",
      "Epoch 7\n",
      "Epoch 8\n",
      "Epoch 9\n",
      "Epoch 10\n",
      "Epoch 11\n",
      "Epoch 12\n",
      "Epoch 13\n",
      "Epoch 14\n",
      "Epoch 15\n",
      "Epoch 16\n",
      "Epoch 17\n",
      "Epoch 18\n",
      "Epoch 19\n",
      "Epoch 20\n",
      "Epoch 21\n",
      "Epoch 22\n",
      "Epoch 23\n",
      "Epoch 24\n",
      "Epoch 25\n",
      "Epoch 26\n",
      "Epoch 27\n",
      "Epoch 28\n",
      "Epoch 29\n",
      "Epoch 30\n",
      "Epoch 31\n",
      "Epoch 32\n",
      "Epoch 33\n",
      "Epoch 34\n",
      "Epoch 35\n",
      "Epoch 36\n",
      "Epoch 37\n",
      "Epoch 38\n",
      "Epoch 39\n",
      "Epoch 40\n",
      "Epoch 41\n",
      "Epoch 42\n",
      "Epoch 43\n",
      "Epoch 44\n",
      "Epoch 45\n",
      "Epoch 46\n",
      "Epoch 47\n",
      "Epoch 48\n",
      "Epoch 49\n",
      "Epoch 50\n",
      "Epoch 51\n",
      "Epoch 52\n",
      "Epoch 53\n",
      "Epoch 54\n",
      "Epoch 55\n",
      "Epoch 56\n",
      "Epoch 57\n",
      "Epoch 58\n",
      "Epoch 59\n",
      "Epoch 60\n",
      "Epoch 61\n",
      "Epoch 62\n",
      "Epoch 63\n",
      "Epoch 64\n",
      "Epoch 65\n",
      "Epoch 66\n",
      "Epoch 67\n",
      "Epoch 68\n",
      "Epoch 69\n",
      "Epoch 70\n",
      "Epoch 71\n",
      "Epoch 72\n",
      "Epoch 73\n",
      "Epoch 74\n",
      "Epoch 75\n",
      "Epoch 76\n",
      "Epoch 77\n",
      "Epoch 78\n",
      "Epoch 79\n",
      "Epoch 80\n",
      "Epoch 81\n",
      "Epoch 82\n",
      "Epoch 83\n",
      "Epoch 84\n",
      "Epoch 85\n",
      "Epoch 86\n",
      "Epoch 87\n",
      "Epoch 88\n",
      "Epoch 89\n",
      "Epoch 90\n",
      "Epoch 91\n",
      "Epoch 92\n",
      "Epoch 93\n",
      "Epoch 94\n",
      "Epoch 95\n",
      "Epoch 96\n",
      "Epoch 97\n",
      "Epoch 98\n",
      "Epoch 99\n",
      "Epoch 100\n",
      "Epoch 101\n",
      "Epoch 102\n",
      "Epoch 103\n",
      "Epoch 104\n",
      "Epoch 105\n",
      "Epoch 106\n",
      "Epoch 107\n",
      "Epoch 108\n",
      "Epoch 109\n",
      "Epoch 110\n",
      "Epoch 111\n",
      "Epoch 112\n",
      "Epoch 113\n",
      "Epoch 114\n",
      "Epoch 115\n",
      "Epoch 116\n",
      "Epoch 117\n",
      "Epoch 118\n",
      "Epoch 119\n",
      "Epoch 120\n",
      "Epoch 121\n",
      "Epoch 122\n",
      "Epoch 123\n",
      "Epoch 124\n",
      "Epoch 125\n",
      "Epoch 126\n",
      "Epoch 127\n",
      "Epoch 128\n",
      "Epoch 129\n",
      "Epoch 130\n",
      "Epoch 131\n",
      "Epoch 132\n",
      "Epoch 133\n",
      "Epoch 134\n",
      "Epoch 135\n",
      "Epoch 136\n",
      "Epoch 137\n",
      "Epoch 138\n",
      "Epoch 139\n",
      "Epoch 140\n",
      "Epoch 141\n",
      "Epoch 142\n",
      "Epoch 143\n",
      "Epoch 144\n",
      "Epoch 145\n",
      "Epoch 146\n",
      "Epoch 147\n",
      "Epoch 148\n",
      "Epoch 149\n",
      "Epoch 150\n",
      "Epoch 151\n",
      "Epoch 152\n",
      "Epoch 153\n",
      "Epoch 154\n",
      "Epoch 155\n",
      "Epoch 156\n",
      "Epoch 157\n",
      "Epoch 158\n",
      "Epoch 159\n",
      "Epoch 160\n",
      "Epoch 161\n",
      "Epoch 162\n",
      "Epoch 163\n",
      "Epoch 164\n",
      "Epoch 165\n",
      "Epoch 166\n",
      "Epoch 167\n",
      "Epoch 168\n",
      "Epoch 169\n",
      "Epoch 170\n",
      "Epoch 171\n",
      "Epoch 172\n",
      "Epoch 173\n",
      "Epoch 174\n",
      "Epoch 175\n",
      "Epoch 176\n",
      "Epoch 177\n",
      "Epoch 178\n",
      "Epoch 179\n",
      "Epoch 180\n",
      "Epoch 181\n",
      "Epoch 182\n",
      "Epoch 183\n",
      "Epoch 184\n",
      "Epoch 185\n",
      "Epoch 186\n",
      "Epoch 187\n",
      "Epoch 188\n",
      "Epoch 189\n",
      "Epoch 190\n",
      "Epoch 191\n",
      "Epoch 192\n",
      "Epoch 193\n",
      "Epoch 194\n",
      "Epoch 195\n",
      "Epoch 196\n",
      "Epoch 197\n",
      "Epoch 198\n",
      "Epoch 199\n",
      "Epoch 200\n",
      "Epoch 201\n",
      "Epoch 202\n",
      "Epoch 203\n",
      "Epoch 204\n",
      "Epoch 205\n",
      "Epoch 206\n",
      "Epoch 207\n",
      "Epoch 208\n",
      "Epoch 209\n",
      "Epoch 210\n",
      "Epoch 211\n",
      "Epoch 212\n",
      "Epoch 213\n",
      "Epoch 214\n",
      "Epoch 215\n",
      "Epoch 216\n",
      "Epoch 217\n",
      "Epoch 218\n",
      "Epoch 219\n",
      "Epoch 220\n",
      "Epoch 221\n",
      "Epoch 222\n",
      "Epoch 223\n",
      "Epoch 224\n",
      "Epoch 225\n",
      "Epoch 226\n",
      "Epoch 227\n",
      "Epoch 228\n",
      "Epoch 229\n",
      "Epoch 230\n",
      "Epoch 231\n",
      "Epoch 232\n",
      "Epoch 233\n",
      "Epoch 234\n",
      "Epoch 235\n",
      "Epoch 236\n",
      "Epoch 237\n",
      "Epoch 238\n",
      "Epoch 239\n",
      "Epoch 240\n",
      "Epoch 241\n",
      "Epoch 242\n",
      "Epoch 243\n",
      "Epoch 244\n",
      "Epoch 245\n",
      "Epoch 246\n",
      "Epoch 247\n",
      "Epoch 248\n",
      "Epoch 249\n",
      "Epoch 250\n",
      "Epoch 251\n",
      "Epoch 252\n",
      "Epoch 253\n",
      "Epoch 254\n",
      "Epoch 255\n",
      "Epoch 256\n",
      "Epoch 257\n",
      "Epoch 258\n",
      "Epoch 259\n",
      "Epoch 260\n",
      "Epoch 261\n",
      "Epoch 262\n",
      "Epoch 263\n",
      "Epoch 264\n",
      "Epoch 265\n",
      "Epoch 266\n",
      "Epoch 267\n",
      "Epoch 268\n",
      "Epoch 269\n",
      "Epoch 270\n",
      "Epoch 271\n",
      "Epoch 272\n",
      "Epoch 273\n",
      "Epoch 274\n",
      "Epoch 275\n",
      "Epoch 276\n",
      "Epoch 277\n",
      "Epoch 278\n",
      "Epoch 279\n",
      "Epoch 280\n",
      "Epoch 281\n",
      "Epoch 282\n",
      "Epoch 283\n",
      "Epoch 284\n",
      "Epoch 285\n",
      "Epoch 286\n",
      "Epoch 287\n",
      "Epoch 288\n",
      "Epoch 289\n",
      "Epoch 290\n",
      "Epoch 291\n",
      "Epoch 292\n",
      "Epoch 293\n",
      "Epoch 294\n",
      "Epoch 295\n",
      "Epoch 296\n",
      "Epoch 297\n",
      "Epoch 298\n",
      "Epoch 299\n"
     ]
    }
   ],
   "source": [
    "# glove 的训练\n",
    "glove_emotion = Glove(no_components=150,learning_rate=0.05)\n",
    "glove_emotion.fit(corpus_model_emotion.matrix,epochs = 300,no_threads = 6,verbose = True)\n",
    "glove_emotion.add_dictionary(corpus_model_emotion.dictionary)"
   ]
  },
  {
   "cell_type": "code",
   "execution_count": 363,
   "metadata": {},
   "outputs": [],
   "source": [
    "# 保存Glove模型\n",
    "glove_emotion.save('glove_model_emotion')"
   ]
  },
  {
   "cell_type": "code",
   "execution_count": 364,
   "metadata": {},
   "outputs": [
    {
     "output_type": "execute_result",
     "data": {
      "text/plain": [
       "(51041, 150)"
      ]
     },
     "metadata": {},
     "execution_count": 364
    }
   ],
   "source": [
    "# 词向量（数组类型）\n",
    "word_vectors = glove_emotion.word_vectors\n",
    "word_vectors.shape"
   ]
  },
  {
   "cell_type": "code",
   "execution_count": 367,
   "metadata": {},
   "outputs": [],
   "source": [
    "# 获取每个句子的长度\n",
    "word_len = []\n",
    "for i in emotion_words:\n",
    "    word_len.append(len(i))"
   ]
  },
  {
   "cell_type": "code",
   "execution_count": 368,
   "metadata": {
    "tags": []
   },
   "outputs": [],
   "source": [
    "# 获取句子中每个词向量的总和(句向量)\n",
    "word_vec_sum = []\n",
    "for j in word_len:\n",
    "    a = sum((word_vectors[i]) for i in range(j))\n",
    "    word_vec_sum.append(a)"
   ]
  },
  {
   "cell_type": "code",
   "execution_count": 369,
   "metadata": {},
   "outputs": [],
   "source": [
    "word_vec_sum_list = []\n",
    "for n,i in enumerate(word_vec_sum):\n",
    "    try:\n",
    "        word_vec_sum_list.extend(i)\n",
    "    except TypeError:\n",
    "        print(n,i)\n",
    "        word_vec_sum_list.extend(list(np.zeros(150)))\n",
    "word_vec_sum = np.array(word_vec_sum_list).reshape((-1,150))"
   ]
  },
  {
   "cell_type": "code",
   "execution_count": 374,
   "metadata": {},
   "outputs": [
    {
     "output_type": "execute_result",
     "data": {
      "text/plain": [
       "(13399, 150)"
      ]
     },
     "metadata": {},
     "execution_count": 374
    }
   ],
   "source": [
    "# 句向量\n",
    "word_vec_sum.shape"
   ]
  },
  {
   "cell_type": "code",
   "execution_count": 373,
   "metadata": {},
   "outputs": [
    {
     "output_type": "execute_result",
     "data": {
      "text/plain": [
       "(13399,)"
      ]
     },
     "metadata": {},
     "execution_count": 373
    }
   ],
   "source": [
    "df_emotion['emotion'].shape"
   ]
  },
  {
   "cell_type": "code",
   "execution_count": 375,
   "metadata": {},
   "outputs": [],
   "source": [
    "# 载入朴素贝叶斯模型\n",
    "from sklearn.naive_bayes import GaussianNB\n",
    "from sklearn.model_selection import train_test_split"
   ]
  },
  {
   "cell_type": "code",
   "execution_count": 376,
   "metadata": {},
   "outputs": [],
   "source": [
    "# 创建特征和目标\n",
    "feature = word_vec_sum\n",
    "target = df_emotion['emotion']"
   ]
  },
  {
   "cell_type": "code",
   "execution_count": 378,
   "metadata": {},
   "outputs": [
    {
     "output_type": "execute_result",
     "data": {
      "text/plain": [
       "((13399, 150), (13399,))"
      ]
     },
     "metadata": {},
     "execution_count": 378
    }
   ],
   "source": [
    "feature.shape,target.shape"
   ]
  },
  {
   "cell_type": "code",
   "execution_count": 399,
   "metadata": {},
   "outputs": [],
   "source": [
    " # 拆分样本\n",
    " x_train,x_test,y_train,y_test = train_test_split(feature,target,test_size = 0.2,random_state = 2000)"
   ]
  },
  {
   "cell_type": "code",
   "execution_count": 400,
   "metadata": {},
   "outputs": [],
   "source": [
    "# 实例化高斯函数\n",
    "gaussian = GaussianNB()"
   ]
  },
  {
   "cell_type": "code",
   "execution_count": 401,
   "metadata": {},
   "outputs": [
    {
     "output_type": "execute_result",
     "data": {
      "text/plain": [
       "GaussianNB()"
      ]
     },
     "metadata": {},
     "execution_count": 401
    }
   ],
   "source": [
    "gaussian.fit(x_train,y_train)"
   ]
  },
  {
   "cell_type": "code",
   "execution_count": 402,
   "metadata": {},
   "outputs": [
    {
     "output_type": "execute_result",
     "data": {
      "text/plain": [
       "0.22014925373134328"
      ]
     },
     "metadata": {},
     "execution_count": 402
    }
   ],
   "source": [
    "gaussian.score(x_test,y_test)"
   ]
  },
  {
   "cell_type": "code",
   "execution_count": null,
   "metadata": {},
   "outputs": [],
   "source": []
  }
 ]
}